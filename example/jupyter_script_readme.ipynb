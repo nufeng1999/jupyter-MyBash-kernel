{
 "cells": [
  {
   "cell_type": "code",
   "execution_count": 7,
   "id": "e89bf7e5-4f2a-490f-ba8e-160e0fe5cd2d",
   "metadata": {},
   "outputs": [
    {
     "name": "stdout",
     "output_type": "stream",
     "text": [
      "[MyBash Kernel] Info:file H:/Jupyter/jupyter-MyBash-kernel/example/src/test.sh created successfully\n",
      "[MyBash Kernel] Info:The process :H:/Jupyter/jupyter-MyBash-kernel/example/src/test.sh\n",
      "[MyBash Kernel] Info:H:/Jupyter/jupyter-MyBash-kernel/example/tmpjedbhxrt.sh\n",
      "[MyBash Kernel] Info:c:\\Windows\\System32\\cmd.exe /c start bash H:/Jupyter/jupyter-MyBash-kernel/example/tmpjedbhxrt.sh \n",
      "[MyBash Kernel] Info:The process end:1412\n"
     ]
    }
   ],
   "source": [
    "##%log:1\n",
    "##%runinterm\n",
    "##%term:c:\\Windows\\System32\\cmd.exe /c start bash\n",
    "##%overwritefile\n",
    "##%file:src/test.sh\n",
    "#!/bin/bash\n",
    "ls -al \n"
   ]
  },
  {
   "cell_type": "code",
   "execution_count": 2,
   "id": "19b580f5-a5a5-4f06-a710-c78e07cf42e4",
   "metadata": {},
   "outputs": [
    {
     "data": {
      "text/plain": [
       "jupyter_script_readme.ipynb\n",
       "src\n"
      ]
     },
     "metadata": {
      "text/plain": {}
     },
     "output_type": "display_data"
    }
   ],
   "source": [
    "##%log:0\n",
    "##%noruncode\n",
    "##%command:ls"
   ]
  },
  {
   "cell_type": "code",
   "execution_count": 3,
   "id": "3c072d04-0882-4385-8585-06755f724af3",
   "metadata": {},
   "outputs": [
    {
     "name": "stdout",
     "output_type": "stream",
     "text": [
      "RealTimeSubprocess err:[WinError 2] 系统找不到指定的文件。"
     ]
    }
   ],
   "source": [
    "//%log:0\n",
    "//%pubcmd:--help\n",
    "///%kcmd:ll -h\n",
    "//%noruncode"
   ]
  }
 ],
 "metadata": {
  "interpreter": {
   "hash": "75596ead963b1eeb4cf3ce4e8a9c4a864202dd5fd95b19dff9cbdac9756331e2"
  },
  "kernelspec": {
   "display_name": "MyBash",
   "language": "shellscript",
   "name": "mybash"
  },
  "language_info": {
   "file_extension": ".sh",
   "mimetype": "text/shellscript",
   "name": "shellscript"
  }
 },
 "nbformat": 4,
 "nbformat_minor": 5
}
