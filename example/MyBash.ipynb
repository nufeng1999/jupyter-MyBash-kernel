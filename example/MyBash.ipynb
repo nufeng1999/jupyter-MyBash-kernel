{
 "cells": [
  {
   "cell_type": "code",
   "execution_count": 1,
   "id": "85ff8736-1955-487b-b138-ce0a91dc7822",
   "metadata": {},
   "outputs": [
    {
     "name": "stdout",
     "output_type": "stream",
     "text": [
      "[MyBashKernel230146] Info:file H:/Jupyter/ipynb/MyBash/src/test.sh created successfully\n",
      "[MyBashKernel230146] Info:The process :H:/Jupyter/ipynb/MyBash/src/test.sh\n",
      "[MyBashKernel230146] Info:H:/Jupyter/ipynb/MyBash/tmpd1p7on2l.sh\n",
      "[MyBashKernel230146] Info:c:\\Windows\\System32\\cmd.exe /c start bash H:/Jupyter/ipynb/MyBash/tmpd1p7on2l.sh \n",
      "[MyBashKernel230146] Info:The process end:2748\n"
     ]
    }
   ],
   "source": [
    "##---------------------------\n",
    "##%runinterm\n",
    "##%term:c:\\Windows\\System32\\cmd.exe /c start bash\n",
    "##%execfile:src\\test.sh\n",
    "##%overwritefile\n",
    "##%file:src/test.sh\n",
    "##---------------------------\n",
    "ls"
   ]
  },
  {
   "cell_type": "code",
   "execution_count": 1,
   "id": "fb57814c",
   "metadata": {},
   "outputs": [
    {
     "name": "stdout",
     "output_type": "stream",
     "text": [
      "[MyBashKernel225711] Info:The process :H:/Jupyter/ipynb/MyBash/tmpe_jvtyg9.sh\n",
      "[MyBashKernel225711] Info:sh /h/Jupyter/ipynb/MyBash/tmpe_jvtyg9.sh\n",
      " \n"
     ]
    },
    {
     "data": {
      "text/plain": [
       "MINGW64_NT-10.0-22000\n"
      ]
     },
     "metadata": {
      "text/plain": {}
     },
     "output_type": "display_data"
    },
    {
     "name": "stdout",
     "output_type": "stream",
     "text": [
      "[MyBashKernel225711] Info:The process end:10440\n"
     ]
    }
   ],
   "source": [
    "##%log:1\n",
    "uname"
   ]
  }
 ],
 "metadata": {
  "interpreter": {
   "hash": "38bff49347d1e315ffe4e438ca69c956c90694fd6c920dd305da3d1e99520bc7"
  },
  "kernelspec": {
   "display_name": "MyBash",
   "language": "shellscript",
   "name": "mybash"
  },
  "language_info": {
   "file_extension": ".sh",
   "mimetype": "text/shellscript",
   "name": "shellscript"
  },
  "widgets": {
   "application/vnd.jupyter.widget-state+json": {
    "state": {},
    "version_major": 2,
    "version_minor": 0
   }
  }
 },
 "nbformat": 4,
 "nbformat_minor": 5
}
