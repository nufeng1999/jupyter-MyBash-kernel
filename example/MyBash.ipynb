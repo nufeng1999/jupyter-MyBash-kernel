{
 "cells": [
  {
   "cell_type": "code",
   "execution_count": 2,
   "id": "85ff8736-1955-487b-b138-ce0a91dc7822",
   "metadata": {},
   "outputs": [
    {
     "name": "stdout",
     "output_type": "stream",
     "text": [
      "[MyBashKernel230451] Info:file H:/Jupyter/jupyter-MyBash-kernel/example/src/test.sh created successfully\n",
      "[MyBashKernel230451] Info:The process :H:/Jupyter/jupyter-MyBash-kernel/example/src/test.sh\n",
      "[MyBashKernel230451] Info:H:/Jupyter/jupyter-MyBash-kernel/example/tmpafc7312a.sh\n",
      "[MyBashKernel230451] Info:mintty H:/Jupyter/jupyter-MyBash-kernel/example/tmpafc7312a.sh \n",
      "[MyBashKernel230451] Info:The process end:5520\n"
     ]
    }
   ],
   "source": [
    "##---------------------------\n",
    "##%runinterm\n",
    "##//%term:c:\\Windows\\System32\\cmd.exe /c start bash\n",
    "##%term:mintty \n",
    "##%execfile:src\\test.sh\n",
    "##%overwritefile\n",
    "##%file:src/test.sh\n",
    "##---------------------------\n",
    "ls"
   ]
  },
  {
   "cell_type": "code",
   "execution_count": null,
   "id": "fb57814c",
   "metadata": {},
   "outputs": [],
   "source": [
    "##%log:1\n",
    "uname"
   ]
  }
 ],
 "metadata": {
  "interpreter": {
   "hash": "38bff49347d1e315ffe4e438ca69c956c90694fd6c920dd305da3d1e99520bc7"
  },
  "kernelspec": {
   "display_name": "MyBash",
   "language": "shellscript",
   "name": "mybash"
  },
  "language_info": {
   "file_extension": ".sh",
   "mimetype": "text/shellscript",
   "name": "shellscript"
  },
  "widgets": {
   "application/vnd.jupyter.widget-state+json": {
    "state": {},
    "version_major": 2,
    "version_minor": 0
   }
  }
 },
 "nbformat": 4,
 "nbformat_minor": 5
}
